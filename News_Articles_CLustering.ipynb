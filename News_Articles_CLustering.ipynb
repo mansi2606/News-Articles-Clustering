{
  "nbformat": 4,
  "nbformat_minor": 0,
  "metadata": {
    "colab": {
      "name": "News Articles CLustering.ipynb",
      "provenance": [],
      "authorship_tag": "ABX9TyODGLlJOBfckZ5H23ysAh5R",
      "include_colab_link": true
    },
    "kernelspec": {
      "name": "python3",
      "display_name": "Python 3"
    }
  },
  "cells": [
    {
      "cell_type": "markdown",
      "metadata": {
        "id": "view-in-github",
        "colab_type": "text"
      },
      "source": [
        "<a href=\"https://colab.research.google.com/github/mansi2606/News-Articles-Clustering/blob/main/News_Articles_CLustering.ipynb\" target=\"_parent\"><img src=\"https://colab.research.google.com/assets/colab-badge.svg\" alt=\"Open In Colab\"/></a>"
      ]
    },
    {
      "cell_type": "markdown",
      "metadata": {
        "id": "DI-KXtXI0xUp"
      },
      "source": [
        ""
      ]
    },
    {
      "cell_type": "code",
      "metadata": {
        "id": "gpdNV_-p_f0B"
      },
      "source": [
        "import pandas as pd\n",
        "import numpy as np\n",
        "import matplotlib.pyplot as plt\n",
        "\n"
      ],
      "execution_count": null,
      "outputs": []
    },
    {
      "cell_type": "code",
      "metadata": {
        "id": "RaeP1d2F_lxB",
        "colab": {
          "base_uri": "https://localhost:8080/",
          "height": 204
        },
        "outputId": "cd8e7dc4-0b3a-4a86-acfb-51c64e63cc84"
      },
      "source": [
        "url='https://raw.githubusercontent.com/mansi2606/News-Articles-Clustering/main/NA.json'\n",
        "data=pd.read_json(url)\n",
        "data.head()"
      ],
      "execution_count": null,
      "outputs": [
        {
          "output_type": "execute_result",
          "data": {
            "text/html": [
              "<div>\n",
              "<style scoped>\n",
              "    .dataframe tbody tr th:only-of-type {\n",
              "        vertical-align: middle;\n",
              "    }\n",
              "\n",
              "    .dataframe tbody tr th {\n",
              "        vertical-align: top;\n",
              "    }\n",
              "\n",
              "    .dataframe thead th {\n",
              "        text-align: right;\n",
              "    }\n",
              "</style>\n",
              "<table border=\"1\" class=\"dataframe\">\n",
              "  <thead>\n",
              "    <tr style=\"text-align: right;\">\n",
              "      <th></th>\n",
              "      <th>Article</th>\n",
              "      <th>Preprocessed-Article</th>\n",
              "      <th>Vector</th>\n",
              "    </tr>\n",
              "  </thead>\n",
              "  <tbody>\n",
              "    <tr>\n",
              "      <th>161</th>\n",
              "      <td>Iran jails blogger for 14 years\\n\\nAn Iranian ...</td>\n",
              "      <td>Iran jails blogger 14 years An Iranian weblogg...</td>\n",
              "      <td>[0.0, 0.0, 0.0, 0.0, 0.0, 0.0, 0.0, 0.0, 0.0, ...</td>\n",
              "    </tr>\n",
              "    <tr>\n",
              "      <th>166</th>\n",
              "      <td>UK gets official virus alert site\\n\\nA rapid a...</td>\n",
              "      <td>UK gets official virus alert site A rapid aler...</td>\n",
              "      <td>[0.0, 0.0, 0.0, 0.0, 0.0, 0.0, 0.0, 0.0, 0.0, ...</td>\n",
              "    </tr>\n",
              "    <tr>\n",
              "      <th>76</th>\n",
              "      <td>O'Sullivan could run in Worlds\\n\\nSonia O'Sull...</td>\n",
              "      <td>OSullivan could run Worlds Sonia OSullivan ind...</td>\n",
              "      <td>[0.0, 0.0, 0.0, 0.0, 0.0, 0.0, 0.0, 0.0, 0.0, ...</td>\n",
              "    </tr>\n",
              "    <tr>\n",
              "      <th>8</th>\n",
              "      <td>Mutant book wins Guardian prize\\n\\nA book abou...</td>\n",
              "      <td>Mutant book wins Guardian prize A book evoluti...</td>\n",
              "      <td>[0.0, 0.0, 0.0, 0.0, 0.0, 0.0, 0.0, 0.0, 0.0, ...</td>\n",
              "    </tr>\n",
              "    <tr>\n",
              "      <th>158</th>\n",
              "      <td>Microsoft seeking spyware trojan\\n\\nMicrosoft ...</td>\n",
              "      <td>Microsoft seeking spyware trojan Microsoft inv...</td>\n",
              "      <td>[0.0, 0.0, 0.0, 0.0, 0.0, 0.0, 0.0, 0.0, 0.0, ...</td>\n",
              "    </tr>\n",
              "  </tbody>\n",
              "</table>\n",
              "</div>"
            ],
            "text/plain": [
              "                                               Article  ...                                             Vector\n",
              "161  Iran jails blogger for 14 years\\n\\nAn Iranian ...  ...  [0.0, 0.0, 0.0, 0.0, 0.0, 0.0, 0.0, 0.0, 0.0, ...\n",
              "166  UK gets official virus alert site\\n\\nA rapid a...  ...  [0.0, 0.0, 0.0, 0.0, 0.0, 0.0, 0.0, 0.0, 0.0, ...\n",
              "76   O'Sullivan could run in Worlds\\n\\nSonia O'Sull...  ...  [0.0, 0.0, 0.0, 0.0, 0.0, 0.0, 0.0, 0.0, 0.0, ...\n",
              "8    Mutant book wins Guardian prize\\n\\nA book abou...  ...  [0.0, 0.0, 0.0, 0.0, 0.0, 0.0, 0.0, 0.0, 0.0, ...\n",
              "158  Microsoft seeking spyware trojan\\n\\nMicrosoft ...  ...  [0.0, 0.0, 0.0, 0.0, 0.0, 0.0, 0.0, 0.0, 0.0, ...\n",
              "\n",
              "[5 rows x 3 columns]"
            ]
          },
          "metadata": {
            "tags": []
          },
          "execution_count": 3
        }
      ]
    },
    {
      "cell_type": "code",
      "metadata": {
        "id": "hfDOy0eH_sn-",
        "colab": {
          "base_uri": "https://localhost:8080/"
        },
        "outputId": "05433de7-084d-44fb-c8b2-304f8dc2bdb8"
      },
      "source": [
        " len(data['Vector'][4])\n",
        "det=data['Vector']\n",
        "vectors=pd.DataFrame(list(det))\n",
        "vectors.head()\n",
        "vectors.shape\n"
      ],
      "execution_count": null,
      "outputs": [
        {
          "output_type": "execute_result",
          "data": {
            "text/plain": [
              "(179, 8868)"
            ]
          },
          "metadata": {
            "tags": []
          },
          "execution_count": 4
        }
      ]
    },
    {
      "cell_type": "markdown",
      "metadata": {
        "id": "KOjgZZdXSFDv"
      },
      "source": [
        "# **SSE before PCA**"
      ]
    },
    {
      "cell_type": "code",
      "metadata": {
        "id": "KPevWU86Cu3V",
        "colab": {
          "base_uri": "https://localhost:8080/"
        },
        "outputId": "93750058-c18a-4fa1-dd6c-ba5696806445"
      },
      "source": [
        "from sklearn.cluster import KMeans\n",
        "kmeans=KMeans(n_clusters=5)\n",
        "kmeans.fit(vectors)\n",
        "pred=kmeans.predict(vectors)\n",
        "# centroids = kmeans.cluster_centers_\n",
        "# cluster=pd.DataFrame(centroids)\n",
        "# cluster=cluster.transpose()\n",
        "# cluster.head()\n",
        "# kmeanslabel=kmeans.labels_\n",
        "sseb=kmeans.inertia_\n",
        "print(sseb)\n",
        "pred"
      ],
      "execution_count": null,
      "outputs": [
        {
          "output_type": "stream",
          "text": [
            "164.25282253732112\n"
          ],
          "name": "stdout"
        },
        {
          "output_type": "execute_result",
          "data": {
            "text/plain": [
              "array([4, 3, 1, 2, 3, 0, 0, 3, 4, 4, 2, 1, 0, 1, 1, 1, 3, 0, 4, 1, 0, 3,\n",
              "       2, 4, 3, 2, 1, 2, 4, 3, 3, 1, 2, 4, 2, 0, 4, 1, 4, 4, 1, 2, 0, 4,\n",
              "       4, 2, 2, 1, 1, 2, 3, 2, 3, 2, 1, 1, 4, 0, 4, 3, 1, 2, 0, 3, 0, 3,\n",
              "       4, 2, 1, 0, 2, 2, 0, 2, 1, 0, 1, 4, 0, 4, 4, 0, 2, 2, 0, 3, 4, 0,\n",
              "       1, 4, 2, 3, 3, 3, 4, 3, 4, 2, 4, 3, 2, 0, 2, 4, 0, 4, 4, 3, 4, 4,\n",
              "       3, 0, 4, 4, 1, 0, 4, 0, 0, 4, 4, 0, 0, 3, 0, 0, 4, 4, 1, 0, 4, 2,\n",
              "       0, 2, 0, 1, 4, 0, 4, 1, 3, 1, 0, 3, 4, 4, 2, 1, 2, 0, 1, 4, 1, 1,\n",
              "       3, 2, 2, 2, 3, 1, 0, 0, 1, 0, 0, 2, 0, 2, 4, 3, 1, 4, 0, 4, 0, 0,\n",
              "       4, 0, 2], dtype=int32)"
            ]
          },
          "metadata": {
            "tags": []
          },
          "execution_count": 6
        }
      ]
    },
    {
      "cell_type": "code",
      "metadata": {
        "id": "6DGdBunKDDoQ"
      },
      "source": [
        "# inertia_list = []\n",
        "# for num_clusters in np.arange(1, 21):\n",
        "#     kmeans =KMeans(n_clusters=num_clusters)\n",
        "#     kmeans.fit(vectors)\n",
        "#     inertia_list.append(kmeans.inertia_)\n",
        "# inertia_list"
      ],
      "execution_count": null,
      "outputs": []
    },
    {
      "cell_type": "markdown",
      "metadata": {
        "id": "IFQ3SAlfS8LR"
      },
      "source": [
        "# **SSE after PCA**\n"
      ]
    },
    {
      "cell_type": "code",
      "metadata": {
        "id": "DqlkWy23Jdi6",
        "colab": {
          "base_uri": "https://localhost:8080/"
        },
        "outputId": "87449a9a-2fbf-4ae1-b846-957187b8aa1a"
      },
      "source": [
        "from sklearn.preprocessing import StandardScaler\n",
        "sc = StandardScaler()\n",
        "scaled_vectors = sc.fit_transform(vectors)\n",
        "scaled_vectors.shape\n",
        "len(scaled_vectors)"
      ],
      "execution_count": null,
      "outputs": [
        {
          "output_type": "execute_result",
          "data": {
            "text/plain": [
              "179"
            ]
          },
          "metadata": {
            "tags": []
          },
          "execution_count": 7
        }
      ]
    },
    {
      "cell_type": "code",
      "metadata": {
        "id": "-IOCKXbaJgvs",
        "colab": {
          "base_uri": "https://localhost:8080/"
        },
        "outputId": "ed74c891-b299-46ed-8b9c-65ec32c2d701"
      },
      "source": [
        "from sklearn.decomposition import PCA\n",
        "pca = PCA(n_components=100)\n",
        "pca_vectors = pca.fit_transform(vectors)\n",
        "pca_vectors.shape\n",
        "\n",
        "\n",
        "# newvectors=pd.DataFrame(pca_vectors)\n",
        "# pca_vectors # one row per sample, each column for a component PC1, PC2..."
      ],
      "execution_count": null,
      "outputs": [
        {
          "output_type": "execute_result",
          "data": {
            "text/plain": [
              "(179, 100)"
            ]
          },
          "metadata": {
            "tags": []
          },
          "execution_count": 12
        }
      ]
    },
    {
      "cell_type": "code",
      "metadata": {
        "id": "snijL4LIMDT6",
        "colab": {
          "base_uri": "https://localhost:8080/"
        },
        "outputId": "f11ec206-5e14-4692-9ae5-d35c17a0bd94"
      },
      "source": [
        "vectorspca=kmeans.fit(pca_vectors)\n",
        "predpca=kmeans.predict(pca_vectors)\n",
        "centroids1=kmeans.cluster_centers_\n",
        "SSE=kmeans.inertia_\n",
        "# inertia_list1=[]\n",
        "# for n in range(1,21):\n",
        "#   kmeans=KMeans(n_clusters=n)\n",
        "#   kmeans.fit(pca_vectors)\n",
        "#   inertia_list1.append(kmeans.inertia_)\n",
        "# inertia_list1\n",
        "# centroids1.shape\n",
        "# cluster1=pd.DataFrame(centroids1)\n",
        "# cluster1=cluster1.transpose()\n",
        "# cluster1.describe()\n",
        "# kmlblwithpca=kmeans.labels_\n",
        "# kmlblwithpca\n",
        "# kmeans.inertia_\n",
        "SSE\n",
        "predpca"
      ],
      "execution_count": null,
      "outputs": [
        {
          "output_type": "execute_result",
          "data": {
            "text/plain": [
              "array([4, 4, 1, 2, 0, 1, 1, 4, 1, 4, 2, 1, 4, 1, 1, 1, 3, 4, 2, 3, 4, 4,\n",
              "       2, 4, 4, 2, 1, 2, 4, 4, 4, 1, 2, 2, 2, 2, 4, 3, 4, 4, 1, 2, 1, 4,\n",
              "       2, 2, 2, 1, 1, 4, 4, 2, 4, 2, 3, 1, 4, 4, 4, 2, 1, 2, 4, 4, 4, 0,\n",
              "       2, 2, 1, 4, 2, 2, 4, 2, 3, 2, 1, 2, 4, 4, 2, 2, 2, 2, 1, 4, 2, 2,\n",
              "       1, 4, 2, 4, 4, 4, 2, 4, 4, 2, 2, 4, 2, 4, 2, 4, 3, 2, 4, 4, 1, 2,\n",
              "       0, 1, 2, 2, 1, 1, 2, 4, 4, 1, 1, 4, 2, 4, 3, 4, 4, 2, 3, 1, 4, 1,\n",
              "       4, 2, 4, 3, 2, 4, 2, 1, 4, 1, 4, 4, 4, 4, 2, 3, 2, 4, 1, 2, 3, 1,\n",
              "       4, 1, 2, 2, 0, 1, 1, 4, 1, 4, 4, 1, 1, 2, 4, 4, 1, 4, 4, 4, 4, 4,\n",
              "       4, 4, 2], dtype=int32)"
            ]
          },
          "metadata": {
            "tags": []
          },
          "execution_count": 16
        }
      ]
    },
    {
      "cell_type": "code",
      "metadata": {
        "id": "IYhCAbkVOj2k",
        "colab": {
          "base_uri": "https://localhost:8080/",
          "height": 350
        },
        "outputId": "61e51d90-aeb5-4f12-89b7-43f08722467d"
      },
      "source": [
        "plt.figure(figsize=(10, 5))\n",
        "plt.plot(np.arange(1, 21), inertia_list1)\n",
        "plt.grid(True)\n",
        "plt.xlabel('Values of K')\n",
        "plt.ylabel('Inertia')\n",
        "plt.title('Elbow Curve')\n",
        "plt.show()"
      ],
      "execution_count": null,
      "outputs": [
        {
          "output_type": "display_data",
          "data": {
            "image/png": "[encoded data removed]",
            "text/plain": [
              "<Figure size 720x360 with 1 Axes>"
            ]
          },
          "metadata": {
            "tags": [],
            "needs_background": "light"
          }
        }
      ]
    },
    {
      "cell_type": "code",
      "metadata": {
        "id": "z_H4wbWtsJJP",
        "colab": {
          "base_uri": "https://localhost:8080/",
          "height": 204
        },
        "outputId": "a868bada-e77d-4345-8d0b-1519c700f7c4"
      },
      "source": [
        "data['kmeans']=pred\n",
        "data['kmeanswithpca']=predpca\n",
        "data.head()\n",
        "\n"
      ],
      "execution_count": null,
      "outputs": [
        {
          "output_type": "execute_result",
          "data": {
            "text/html": [
              "<div>\n",
              "<style scoped>\n",
              "    .dataframe tbody tr th:only-of-type {\n",
              "        vertical-align: middle;\n",
              "    }\n",
              "\n",
              "    .dataframe tbody tr th {\n",
              "        vertical-align: top;\n",
              "    }\n",
              "\n",
              "    .dataframe thead th {\n",
              "        text-align: right;\n",
              "    }\n",
              "</style>\n",
              "<table border=\"1\" class=\"dataframe\">\n",
              "  <thead>\n",
              "    <tr style=\"text-align: right;\">\n",
              "      <th></th>\n",
              "      <th>Article</th>\n",
              "      <th>Preprocessed-Article</th>\n",
              "      <th>Vector</th>\n",
              "      <th>kmeanslabel</th>\n",
              "      <th>kmeanslabelwithpca</th>\n",
              "      <th>kmeans</th>\n",
              "      <th>kmeanswithpca</th>\n",
              "    </tr>\n",
              "  </thead>\n",
              "  <tbody>\n",
              "    <tr>\n",
              "      <th>161</th>\n",
              "      <td>Iran jails blogger for 14 years\\n\\nAn Iranian ...</td>\n",
              "      <td>Iran jails blogger 14 years An Iranian weblogg...</td>\n",
              "      <td>[0.0, 0.0, 0.0, 0.0, 0.0, 0.0, 0.0, 0.0, 0.0, ...</td>\n",
              "      <td>4</td>\n",
              "      <td>4</td>\n",
              "      <td>4</td>\n",
              "      <td>4</td>\n",
              "    </tr>\n",
              "    <tr>\n",
              "      <th>166</th>\n",
              "      <td>UK gets official virus alert site\\n\\nA rapid a...</td>\n",
              "      <td>UK gets official virus alert site A rapid aler...</td>\n",
              "      <td>[0.0, 0.0, 0.0, 0.0, 0.0, 0.0, 0.0, 0.0, 0.0, ...</td>\n",
              "      <td>3</td>\n",
              "      <td>4</td>\n",
              "      <td>3</td>\n",
              "      <td>4</td>\n",
              "    </tr>\n",
              "    <tr>\n",
              "      <th>76</th>\n",
              "      <td>O'Sullivan could run in Worlds\\n\\nSonia O'Sull...</td>\n",
              "      <td>OSullivan could run Worlds Sonia OSullivan ind...</td>\n",
              "      <td>[0.0, 0.0, 0.0, 0.0, 0.0, 0.0, 0.0, 0.0, 0.0, ...</td>\n",
              "      <td>1</td>\n",
              "      <td>1</td>\n",
              "      <td>1</td>\n",
              "      <td>1</td>\n",
              "    </tr>\n",
              "    <tr>\n",
              "      <th>8</th>\n",
              "      <td>Mutant book wins Guardian prize\\n\\nA book abou...</td>\n",
              "      <td>Mutant book wins Guardian prize A book evoluti...</td>\n",
              "      <td>[0.0, 0.0, 0.0, 0.0, 0.0, 0.0, 0.0, 0.0, 0.0, ...</td>\n",
              "      <td>2</td>\n",
              "      <td>2</td>\n",
              "      <td>2</td>\n",
              "      <td>2</td>\n",
              "    </tr>\n",
              "    <tr>\n",
              "      <th>158</th>\n",
              "      <td>Microsoft seeking spyware trojan\\n\\nMicrosoft ...</td>\n",
              "      <td>Microsoft seeking spyware trojan Microsoft inv...</td>\n",
              "      <td>[0.0, 0.0, 0.0, 0.0, 0.0, 0.0, 0.0, 0.0, 0.0, ...</td>\n",
              "      <td>3</td>\n",
              "      <td>0</td>\n",
              "      <td>3</td>\n",
              "      <td>0</td>\n",
              "    </tr>\n",
              "  </tbody>\n",
              "</table>\n",
              "</div>"
            ],
            "text/plain": [
              "                                               Article  ... kmeanswithpca\n",
              "161  Iran jails blogger for 14 years\\n\\nAn Iranian ...  ...             4\n",
              "166  UK gets official virus alert site\\n\\nA rapid a...  ...             4\n",
              "76   O'Sullivan could run in Worlds\\n\\nSonia O'Sull...  ...             1\n",
              "8    Mutant book wins Guardian prize\\n\\nA book abou...  ...             2\n",
              "158  Microsoft seeking spyware trojan\\n\\nMicrosoft ...  ...             0\n",
              "\n",
              "[5 rows x 7 columns]"
            ]
          },
          "metadata": {
            "tags": []
          },
          "execution_count": 19
        }
      ]
    },
    {
      "cell_type": "code",
      "metadata": {
        "id": "t3THFJZph9sd",
        "colab": {
          "base_uri": "https://localhost:8080/"
        },
        "outputId": "011b1e31-d3d5-4cde-8c1d-06c3dad299c3"
      },
      "source": [
        "data['kmeanslabel'].value_counts()"
      ],
      "execution_count": null,
      "outputs": [
        {
          "output_type": "execute_result",
          "data": {
            "text/plain": [
              "4    45\n",
              "0    42\n",
              "2    34\n",
              "1    31\n",
              "3    27\n",
              "Name: kmeanslabel, dtype: int64"
            ]
          },
          "metadata": {
            "tags": []
          },
          "execution_count": 22
        }
      ]
    },
    {
      "cell_type": "code",
      "metadata": {
        "id": "zvOsxbZUNNnH",
        "colab": {
          "base_uri": "https://localhost:8080/"
        },
        "outputId": "b990f552-32e9-4eab-cb36-54e3d285d0b0"
      },
      "source": [
        "data['kmeanslabelwithpca'].value_counts()"
      ],
      "execution_count": null,
      "outputs": [
        {
          "output_type": "execute_result",
          "data": {
            "text/plain": [
              "4    71\n",
              "2    54\n",
              "1    39\n",
              "3    11\n",
              "0     4\n",
              "Name: kmeanslabelwithpca, dtype: int64"
            ]
          },
          "metadata": {
            "tags": []
          },
          "execution_count": 23
        }
      ]
    },
    {
      "cell_type": "code",
      "metadata": {
        "colab": {
          "base_uri": "https://localhost:8080/"
        },
        "id": "99WiKsXnZaod",
        "outputId": "03bff60b-3595-4096-b3e5-e9a534b9c5be"
      },
      "source": [
        "for each,subset in data.groupby('kmeanswithpca'):\n",
        "    print (\"For Label :\",each)\n",
        "    if each==3:\n",
        "        lst= ' '.join(subset['Preprocessed-Article']).lower().split()[:50]\n",
        "        print(lst)\n",
        "        print()\n",
        "\n",
        "kpca=lst[49]\n",
        "print(kpca)"
      ],
      "execution_count": null,
      "outputs": [
        {
          "output_type": "stream",
          "text": [
            "For Label : 0\n",
            "For Label : 1\n",
            "For Label : 2\n",
            "For Label : 3\n",
            "['playstation', '3', 'chip', 'unveiled', 'details', 'chip', 'designed', 'power', 'sony', 'playstation', '3', 'console', 'released', 'san', 'francisco', 'monday', 'sony', 'ibm', 'toshiba', 'working', 'cell', 'processor', 'three', 'years', 'unveil', 'chip', 'technology', 'conference', 'the', 'chip', 'reported', '10', 'times', 'faster', 'current', 'processors', 'it', 'designed', 'use', 'graphics', 'workstations', 'new', 'playstation', 'console', 'described', 'supercomputer', 'chip', 'sony', 'said', 'cell']\n",
            "\n",
            "For Label : 4\n",
            "cell\n"
          ],
          "name": "stdout"
        }
      ]
    },
    {
      "cell_type": "code",
      "metadata": {
        "id": "qbp3zlfaNa5e",
        "colab": {
          "base_uri": "https://localhost:8080/"
        },
        "outputId": "c8230b2f-a906-43aa-f377-eb1e28770104"
      },
      "source": [
        "for each,subset in data.groupby('kmeans'):\n",
        "    print (\"For Label :\",each)\n",
        "    if each==1:\n",
        "        lst= ' '.join(subset['Preprocessed-Article']).lower().split()[:50]\n",
        "        print(lst)\n",
        "        print()\n",
        "\n",
        "k=lst[49]\n",
        "print(k)\n"
      ],
      "execution_count": null,
      "outputs": [
        {
          "output_type": "stream",
          "text": [
            "For Label : 0\n",
            "For Label : 1\n",
            "['osullivan', 'could', 'run', 'worlds', 'sonia', 'osullivan', 'indicated', 'would', 'like', 'participate', 'next', 'month', 'world', 'cross', 'country', 'championships', 'st', 'etienne', 'athletics', 'ireland', 'hinted', '35yearold', 'cobh', 'runner', 'may', 'included', 'official', 'lineup', 'event', 'france', '1920', 'march', 'provincial', 'teams', 'selected', 'last', 'saturday', 'nationals', 'santry', 'officially', 'announced', 'week', 'osullivan', 'present', 'preparing', 'london', 'marathon', '17', 'april', 'the']\n",
            "\n",
            "For Label : 2\n",
            "For Label : 3\n",
            "For Label : 4\n",
            "the\n"
          ],
          "name": "stdout"
        }
      ]
    }
  ]
}